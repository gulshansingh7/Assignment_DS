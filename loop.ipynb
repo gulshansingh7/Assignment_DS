{
 "cells": [
  {
   "cell_type": "code",
   "execution_count": 1,
   "id": "d5b2320f-1aa5-479c-a135-5f8097e3afdd",
   "metadata": {},
   "outputs": [
    {
     "data": {
      "text/plain": [
       "[33, 2, 1, 33, 22, 44, 545, 544, 65, 66, 222, 54, 65, 32, 21, 87]"
      ]
     },
     "execution_count": 1,
     "metadata": {},
     "output_type": "execute_result"
    }
   ],
   "source": [
    "l2=[33,2,1,33,22,44,545,544,65,66,222,54,65,32,21,87]\n",
    "l2"
   ]
  },
  {
   "cell_type": "code",
   "execution_count": 2,
   "id": "8fc87033-8065-46d9-a55e-36ebe2beca7b",
   "metadata": {},
   "outputs": [
    {
     "data": {
      "text/plain": [
       "[0, 2, 4, 6, 8, 10, 12, 14]"
      ]
     },
     "execution_count": 2,
     "metadata": {},
     "output_type": "execute_result"
    }
   ],
   "source": [
    "list(range(0,len(l2),2))"
   ]
  },
  {
   "cell_type": "code",
   "execution_count": 3,
   "id": "f127c83f-c1cd-47c3-962f-865ae4df779d",
   "metadata": {},
   "outputs": [
    {
     "name": "stdout",
     "output_type": "stream",
     "text": [
      "33\n",
      "1\n",
      "22\n",
      "545\n",
      "65\n",
      "222\n",
      "65\n",
      "21\n"
     ]
    }
   ],
   "source": [
    "for i in range(0,len(l2),2):\n",
    "    print(l2[i])"
   ]
  },
  {
   "cell_type": "code",
   "execution_count": 4,
   "id": "66fe55ca-c5cd-463a-aa4c-be5c38c7ce3b",
   "metadata": {},
   "outputs": [
    {
     "data": {
      "text/plain": [
       "[0, 1, 2, 3, 4, 5, 6, 7, 8, 9, 10, 11, 12, 13, 14, 15]"
      ]
     },
     "execution_count": 4,
     "metadata": {},
     "output_type": "execute_result"
    }
   ],
   "source": [
    "list(range(0,len(l2),1))"
   ]
  },
  {
   "cell_type": "code",
   "execution_count": 5,
   "id": "3a0f49a3-0f95-4cfe-9b48-0ba0bf32b079",
   "metadata": {},
   "outputs": [
    {
     "data": {
      "text/plain": [
       "[0, 3, 6, 9, 12, 15]"
      ]
     },
     "execution_count": 5,
     "metadata": {},
     "output_type": "execute_result"
    }
   ],
   "source": [
    "list(range(0,len(l2),3))"
   ]
  },
  {
   "cell_type": "code",
   "execution_count": 6,
   "id": "d31a87be-2894-4690-8842-09fb643dd4b6",
   "metadata": {},
   "outputs": [
    {
     "data": {
      "text/plain": [
       "[0, 4, 8, 12]"
      ]
     },
     "execution_count": 6,
     "metadata": {},
     "output_type": "execute_result"
    }
   ],
   "source": [
    "list(range(0,len(l2),4))"
   ]
  },
  {
   "cell_type": "code",
   "execution_count": 7,
   "id": "80fb0bdd-a393-46d2-aef0-57808375d860",
   "metadata": {},
   "outputs": [
    {
     "data": {
      "text/plain": [
       "[0, 5, 10, 15]"
      ]
     },
     "execution_count": 7,
     "metadata": {},
     "output_type": "execute_result"
    }
   ],
   "source": [
    "list(range(0,len(l2),5))"
   ]
  },
  {
   "cell_type": "code",
   "execution_count": 8,
   "id": "10f1959c-1499-4efe-b47d-30f56b85f6fc",
   "metadata": {},
   "outputs": [
    {
     "data": {
      "text/plain": [
       "[0, 2, 4, 6, 8, 10, 12, 14]"
      ]
     },
     "execution_count": 8,
     "metadata": {},
     "output_type": "execute_result"
    }
   ],
   "source": [
    "list(range(0,len(l2),2))"
   ]
  },
  {
   "cell_type": "code",
   "execution_count": 9,
   "id": "df56b192-7e01-45e5-ada4-1d96d202c9bd",
   "metadata": {},
   "outputs": [
    {
     "name": "stdout",
     "output_type": "stream",
     "text": [
      "0\n",
      "2\n",
      "4\n",
      "6\n",
      "8\n",
      "10\n",
      "12\n",
      "14\n"
     ]
    }
   ],
   "source": [
    "sum=0;\n",
    "for i in range(0,len(l2),2):\n",
    "    print(i)\n",
    "    sum+=i;\n",
    "    "
   ]
  },
  {
   "cell_type": "code",
   "execution_count": null,
   "id": "dd11a80f-8f69-4a35-8c4a-3f16bea69020",
   "metadata": {},
   "outputs": [],
   "source": [
    "l2=[33,2,1,33,22,44,545,544,65,66,222,54,65,32,21,87]\n"
   ]
  },
  {
   "cell_type": "code",
   "execution_count": 23,
   "id": "57e3c054-7c68-44e8-8ae5-4efc66bd995b",
   "metadata": {},
   "outputs": [],
   "source": [
    "sum=0\n",
    "for i in l2:\n",
    "    sum+=i;\n",
    "sum;\n",
    "    "
   ]
  },
  {
   "cell_type": "code",
   "execution_count": null,
   "id": "36ef5e7b-1781-482b-9b42-d67c90ea7c4f",
   "metadata": {},
   "outputs": [],
   "source": []
  },
  {
   "cell_type": "code",
   "execution_count": 19,
   "id": "3cb65f4f-0c80-4333-a6e6-ecdb9c332280",
   "metadata": {},
   "outputs": [
    {
     "data": {
      "text/plain": [
       "96"
      ]
     },
     "execution_count": 19,
     "metadata": {},
     "output_type": "execute_result"
    }
   ],
   "source": [
    "88+8"
   ]
  },
  {
   "cell_type": "code",
   "execution_count": 20,
   "id": "ee366b64-83ee-4967-9e78-18eddded0474",
   "metadata": {},
   "outputs": [
    {
     "data": {
      "text/plain": [
       "1836"
      ]
     },
     "execution_count": 20,
     "metadata": {},
     "output_type": "execute_result"
    }
   ],
   "source": [
    "sum"
   ]
  },
  {
   "cell_type": "code",
   "execution_count": 24,
   "id": "c5ba7d31-582a-40c3-9668-b53aa5e9dbc7",
   "metadata": {},
   "outputs": [],
   "source": [
    "sum=0\n",
    "for i in l2:\n",
    "    sum+=i;\n",
    "sum;\n",
    "    "
   ]
  },
  {
   "cell_type": "code",
   "execution_count": 25,
   "id": "252c6464-0bac-479f-8006-973b634075b4",
   "metadata": {},
   "outputs": [
    {
     "data": {
      "text/plain": [
       "1836"
      ]
     },
     "execution_count": 25,
     "metadata": {},
     "output_type": "execute_result"
    }
   ],
   "source": [
    "sum"
   ]
  },
  {
   "cell_type": "code",
   "execution_count": 26,
   "id": "7feb9038-024d-4d2f-b8c3-b55c3ad41216",
   "metadata": {},
   "outputs": [
    {
     "data": {
      "text/plain": [
       "(1, 2, 3, 4, 5, 6, 7, 8, 9, 10, 11, 15)"
      ]
     },
     "execution_count": 26,
     "metadata": {},
     "output_type": "execute_result"
    }
   ],
   "source": [
    "tp=(1,2,3,4,5,6,7,8,9,10,11,15)\n",
    "tp"
   ]
  },
  {
   "cell_type": "code",
   "execution_count": 29,
   "id": "7d46180c-ea59-4199-8f49-6073e5d55abe",
   "metadata": {},
   "outputs": [],
   "source": [
    "ans=0;\n",
    "for i in tp:\n",
    "    ans=ans+i;"
   ]
  },
  {
   "cell_type": "code",
   "execution_count": 30,
   "id": "e88e215e-af4f-4358-a915-2fa0fd25a516",
   "metadata": {},
   "outputs": [
    {
     "data": {
      "text/plain": [
       "81"
      ]
     },
     "execution_count": 30,
     "metadata": {},
     "output_type": "execute_result"
    }
   ],
   "source": [
    "ans"
   ]
  },
  {
   "cell_type": "code",
   "execution_count": 31,
   "id": "790218ba-2c94-414b-b2f7-c0737001f5de",
   "metadata": {},
   "outputs": [
    {
     "data": {
      "text/plain": [
       "81"
      ]
     },
     "execution_count": 31,
     "metadata": {},
     "output_type": "execute_result"
    }
   ],
   "source": [
    "ans=0;\n",
    "for i in tp:\n",
    "    ans=ans+i;\n",
    "ans"
   ]
  },
  {
   "cell_type": "code",
   "execution_count": 32,
   "id": "9a3fb032-7d39-4394-b9d2-4fffc9e0c7d8",
   "metadata": {},
   "outputs": [
    {
     "data": {
      "text/plain": [
       "{11, 22, 344, 55, 'gillu', 'mohit'}"
      ]
     },
     "execution_count": 32,
     "metadata": {},
     "output_type": "execute_result"
    }
   ],
   "source": [
    "st={11,22,344,55,'gillu','mohit'};\n",
    "st"
   ]
  },
  {
   "cell_type": "code",
   "execution_count": 33,
   "id": "3d7cf2d2-537a-49da-aaf0-35bd23810cff",
   "metadata": {},
   "outputs": [
    {
     "ename": "SyntaxError",
     "evalue": "invalid syntax (2663620402.py, line 1)",
     "output_type": "error",
     "traceback": [
      "\u001b[0;36m  Cell \u001b[0;32mIn[33], line 1\u001b[0;36m\u001b[0m\n\u001b[0;31m    for i in range st:\u001b[0m\n\u001b[0m                   ^\u001b[0m\n\u001b[0;31mSyntaxError\u001b[0m\u001b[0;31m:\u001b[0m invalid syntax\n"
     ]
    }
   ],
   "source": [
    "for i in range st:\n",
    "    print(i)"
   ]
  },
  {
   "cell_type": "code",
   "execution_count": 34,
   "id": "c68e2a2b-5814-475b-865f-84d6b7ba9fc4",
   "metadata": {},
   "outputs": [
    {
     "name": "stdout",
     "output_type": "stream",
     "text": [
      "22\n",
      "55\n",
      "344\n",
      "gillu\n",
      "mohit\n",
      "11\n"
     ]
    }
   ],
   "source": [
    "for i in st:\n",
    "    print(i)"
   ]
  },
  {
   "cell_type": "code",
   "execution_count": 35,
   "id": "2d720f28-d653-4219-8cd8-4211a787bc17",
   "metadata": {},
   "outputs": [
    {
     "name": "stdout",
     "output_type": "stream",
     "text": [
      "p\n",
      "w\n",
      "s\n",
      "k\n",
      "i\n",
      "l\n",
      "l\n",
      "s\n"
     ]
    }
   ],
   "source": [
    "str='pwskills'\n",
    "for i in str:\n",
    "    print(i)"
   ]
  },
  {
   "cell_type": "code",
   "execution_count": 36,
   "id": "471165ca-7926-4d57-8326-1379967b6c4d",
   "metadata": {},
   "outputs": [
    {
     "data": {
      "text/plain": [
       "{'Name': 'Gulshan',\n",
       " 'Class': 'Datascience',\n",
       " 'topic': ['python', 'ml', 'dl', 444, 'ai']}"
      ]
     },
     "execution_count": 36,
     "metadata": {},
     "output_type": "execute_result"
    }
   ],
   "source": [
    "d={'Name':'Gulshan','Class':'Datascience','topic':['python','ml','dl',444,'ai']}\n",
    "d"
   ]
  },
  {
   "cell_type": "code",
   "execution_count": 37,
   "id": "3cb574f9-310e-4469-9554-1babb439bf98",
   "metadata": {},
   "outputs": [
    {
     "name": "stdout",
     "output_type": "stream",
     "text": [
      "Name\n",
      "Class\n",
      "topic\n"
     ]
    }
   ],
   "source": [
    "for i in d:\n",
    "    print(i)"
   ]
  },
  {
   "cell_type": "code",
   "execution_count": 38,
   "id": "72f311a8-5e40-42a0-896d-fe7692d16a0a",
   "metadata": {},
   "outputs": [
    {
     "ename": "NameError",
     "evalue": "name 'topic' is not defined",
     "output_type": "error",
     "traceback": [
      "\u001b[0;31m---------------------------------------------------------------------------\u001b[0m",
      "\u001b[0;31mNameError\u001b[0m                                 Traceback (most recent call last)",
      "Cell \u001b[0;32mIn[38], line 1\u001b[0m\n\u001b[0;32m----> 1\u001b[0m \u001b[43mtopic\u001b[49m\n",
      "\u001b[0;31mNameError\u001b[0m: name 'topic' is not defined"
     ]
    }
   ],
   "source": [
    "topic"
   ]
  },
  {
   "cell_type": "code",
   "execution_count": 39,
   "id": "a69d3eb2-b011-4e17-8461-5a874d8e1f62",
   "metadata": {},
   "outputs": [
    {
     "data": {
      "text/plain": [
       "dict_keys(['Name', 'Class', 'topic'])"
      ]
     },
     "execution_count": 39,
     "metadata": {},
     "output_type": "execute_result"
    }
   ],
   "source": [
    "d.keys()"
   ]
  },
  {
   "cell_type": "code",
   "execution_count": 40,
   "id": "869767b2-17f5-46ae-913d-f0073bfcf021",
   "metadata": {},
   "outputs": [
    {
     "name": "stdout",
     "output_type": "stream",
     "text": [
      "{'Name': 'Gulshan', 'Class': 'Datascience', 'topic': ['python', 'ml', 'dl', 444, 'ai']}\n",
      "{'Name': 'Gulshan', 'Class': 'Datascience', 'topic': ['python', 'ml', 'dl', 444, 'ai']}\n",
      "{'Name': 'Gulshan', 'Class': 'Datascience', 'topic': ['python', 'ml', 'dl', 444, 'ai']}\n"
     ]
    }
   ],
   "source": [
    "for i in d.keys():\n",
    "    print(d)"
   ]
  },
  {
   "cell_type": "code",
   "execution_count": 41,
   "id": "e0d41f4a-6dcf-4e03-90b7-bc3db41329a0",
   "metadata": {},
   "outputs": [
    {
     "name": "stdout",
     "output_type": "stream",
     "text": [
      "Gulshan\n",
      "Datascience\n",
      "['python', 'ml', 'dl', 444, 'ai']\n"
     ]
    }
   ],
   "source": [
    "for i in d:\n",
    "    print(d[i])"
   ]
  },
  {
   "cell_type": "code",
   "execution_count": 42,
   "id": "ba0d9a67-36ef-4de5-a8bb-6f1c49c3a418",
   "metadata": {},
   "outputs": [
    {
     "data": {
      "text/plain": [
       "dict_values(['Gulshan', 'Datascience', ['python', 'ml', 'dl', 444, 'ai']])"
      ]
     },
     "execution_count": 42,
     "metadata": {},
     "output_type": "execute_result"
    }
   ],
   "source": [
    "d.values()"
   ]
  },
  {
   "cell_type": "code",
   "execution_count": 43,
   "id": "037f90d9-72c3-4d07-b933-e631ef7d0979",
   "metadata": {},
   "outputs": [
    {
     "name": "stdout",
     "output_type": "stream",
     "text": [
      "Gulshan\n",
      "Datascience\n",
      "['python', 'ml', 'dl', 444, 'ai']\n"
     ]
    }
   ],
   "source": [
    "for i in d.values():\n",
    "    print(i)"
   ]
  },
  {
   "cell_type": "code",
   "execution_count": 44,
   "id": "7a2be423-cf8f-42c2-ac99-fc480bd4b1d4",
   "metadata": {},
   "outputs": [
    {
     "data": {
      "text/plain": [
       "dict_items([('Name', 'Gulshan'), ('Class', 'Datascience'), ('topic', ['python', 'ml', 'dl', 444, 'ai'])])"
      ]
     },
     "execution_count": 44,
     "metadata": {},
     "output_type": "execute_result"
    }
   ],
   "source": [
    "d.items()"
   ]
  },
  {
   "cell_type": "code",
   "execution_count": 45,
   "id": "49c93027-6996-425d-9361-a9a9a832f4d5",
   "metadata": {},
   "outputs": [
    {
     "name": "stdout",
     "output_type": "stream",
     "text": [
      "('Name', 'Gulshan')\n",
      "('Class', 'Datascience')\n",
      "('topic', ['python', 'ml', 'dl', 444, 'ai'])\n"
     ]
    }
   ],
   "source": [
    "for i in d.items():\n",
    "    print(i)"
   ]
  },
  {
   "cell_type": "code",
   "execution_count": 46,
   "id": "3d9941fa-5d71-4d49-ae13-3765c0cb5dd8",
   "metadata": {},
   "outputs": [
    {
     "name": "stdout",
     "output_type": "stream",
     "text": [
      "1\n",
      "2\n",
      "3\n",
      "4\n",
      "5\n",
      "6\n",
      "7\n",
      "8\n",
      "9\n",
      "10\n"
     ]
    }
   ],
   "source": [
    "# while loop\n",
    "\n",
    "a=1;\n",
    "while a<=10:\n",
    "    print(a)\n",
    "    a=a+1;"
   ]
  },
  {
   "cell_type": "code",
   "execution_count": 48,
   "id": "625976a5-1ff7-4912-95de-fe3d8545b867",
   "metadata": {},
   "outputs": [
    {
     "name": "stdin",
     "output_type": "stream",
     "text": [
      "Entr your limit 100\n"
     ]
    },
    {
     "data": {
      "text/plain": [
       "5050"
      ]
     },
     "execution_count": 48,
     "metadata": {},
     "output_type": "execute_result"
    }
   ],
   "source": [
    "n=int(input(\"Entr your limit\"));\n",
    "starting_point=0;\n",
    "counter=1;\n",
    "while counter<=n:\n",
    "    starting_point=starting_point+counter;\n",
    "    counter=counter+1;\n",
    "starting_point"
   ]
  },
  {
   "cell_type": "code",
   "execution_count": 51,
   "id": "bbfa5a0c-8198-40c6-b6b1-a167fce2b140",
   "metadata": {},
   "outputs": [
    {
     "name": "stdin",
     "output_type": "stream",
     "text": [
      "Entr a number 24\n"
     ]
    },
    {
     "data": {
      "text/plain": [
       "620448401733239439360000"
      ]
     },
     "execution_count": 51,
     "metadata": {},
     "output_type": "execute_result"
    }
   ],
   "source": [
    "number=int(input(\"Entr a number\"))\n",
    "fact=1;\n",
    "while number>0:\n",
    "    fact=fact*number;\n",
    "    number=number-1;\n",
    "fact\n",
    "                 \n",
    "                 "
   ]
  },
  {
   "cell_type": "code",
   "execution_count": 56,
   "id": "976172d1-4e9b-4196-b2be-c577a94128fd",
   "metadata": {},
   "outputs": [
    {
     "name": "stdin",
     "output_type": "stream",
     "text": [
      "Entr a number 8\n"
     ]
    },
    {
     "name": "stdout",
     "output_type": "stream",
     "text": [
      "0\n",
      "1\n",
      "1\n",
      "2\n",
      "3\n",
      "5\n",
      "8\n",
      "13\n"
     ]
    }
   ],
   "source": [
    "num=int(input(\"Entr a number\"))\n",
    "a,b=0,1;\n",
    "counter=0;\n",
    "while counter<num:\n",
    "    print(a)\n",
    "    c=a+b\n",
    "    a=b;\n",
    "    b=c;\n",
    "    counter=counter+1;"
   ]
  },
  {
   "cell_type": "code",
   "execution_count": 55,
   "id": "c0099c3d-6b30-4999-8f6d-8489e3543d0a",
   "metadata": {},
   "outputs": [
    {
     "data": {
      "text/plain": [
       "34"
      ]
     },
     "execution_count": 55,
     "metadata": {},
     "output_type": "execute_result"
    }
   ],
   "source": [
    "c\n"
   ]
  },
  {
   "cell_type": "code",
   "execution_count": 57,
   "id": "9d78df3d-e039-47ef-ab27-e22577f48dad",
   "metadata": {},
   "outputs": [
    {
     "name": "stdout",
     "output_type": "stream",
     "text": [
      "0\n",
      "1\n",
      "1\n",
      "2\n",
      "3\n",
      "5\n",
      "8\n",
      "13\n",
      "21\n",
      "34\n"
     ]
    }
   ],
   "source": [
    "a,b=0,1;\n",
    "for i in range(10):\n",
    "    print(a)\n",
    "    c=a+b\n",
    "    a=b;\n",
    "    b=c;"
   ]
  },
  {
   "cell_type": "code",
   "execution_count": 58,
   "id": "ec89200b-f938-43d3-b103-4cb84eb314d4",
   "metadata": {},
   "outputs": [
    {
     "data": {
      "text/plain": [
       "'nahsluG'"
      ]
     },
     "execution_count": 58,
     "metadata": {},
     "output_type": "execute_result"
    }
   ],
   "source": [
    "s=\"Gulshan\"\n",
    "s[::-1]"
   ]
  },
  {
   "cell_type": "code",
   "execution_count": 59,
   "id": "d2067ad2-6d4f-4414-a099-d69f4aa5f871",
   "metadata": {},
   "outputs": [
    {
     "name": "stdin",
     "output_type": "stream",
     "text": [
      "Entr a string for reversal Gulshan singh \n"
     ]
    }
   ],
   "source": [
    "word=input(\"Entr a string for reversal\")"
   ]
  },
  {
   "cell_type": "code",
   "execution_count": 60,
   "id": "7d8b4439-8d8e-4588-af09-524225196875",
   "metadata": {},
   "outputs": [
    {
     "name": "stdout",
     "output_type": "stream",
     "text": [
      " hgnis nahsluG\n"
     ]
    }
   ],
   "source": [
    "reverse=\"\";\n",
    "length=len(word)\n",
    "while length>0:\n",
    "    reverse=reverse+word[length-1]\n",
    "    length=length-1;\n",
    "print(reverse)"
   ]
  },
  {
   "cell_type": "code",
   "execution_count": 61,
   "id": "db5cee91-fcc9-4996-9cd8-bed9eb7e21e9",
   "metadata": {},
   "outputs": [],
   "source": [
    "# print table of a number\n"
   ]
  },
  {
   "cell_type": "code",
   "execution_count": 64,
   "id": "5470e929-7ee6-48e1-95f0-1f611d546320",
   "metadata": {},
   "outputs": [
    {
     "name": "stdin",
     "output_type": "stream",
     "text": [
      "Entr a number 51\n"
     ]
    },
    {
     "name": "stdout",
     "output_type": "stream",
     "text": [
      "51 * 1 = 51\n",
      "51 * 2 = 102\n",
      "51 * 3 = 153\n",
      "51 * 4 = 204\n",
      "51 * 5 = 255\n",
      "51 * 6 = 306\n",
      "51 * 7 = 357\n",
      "51 * 8 = 408\n",
      "51 * 9 = 459\n",
      "51 * 10 = 510\n"
     ]
    }
   ],
   "source": [
    "n=int(input(\"Entr a number\"));\n",
    "i=1;\n",
    "while i<=10:\n",
    "    result=n*i;\n",
    "    print(n,\"*\",i,\"=\",result)\n",
    "    i=i+1;"
   ]
  },
  {
   "cell_type": "code",
   "execution_count": 65,
   "id": "d45a3c4a-e924-4ee9-88d7-73ec471daa30",
   "metadata": {},
   "outputs": [
    {
     "name": "stdout",
     "output_type": "stream",
     "text": [
      "1\n",
      "2\n",
      "3\n",
      "4\n",
      "This will be exeucted once your while loop complete it successfully\n"
     ]
    }
   ],
   "source": [
    "n=5;\n",
    "i=1;\n",
    "while i<n:\n",
    "    print(i)\n",
    "    i=i+1;\n",
    "else:\n",
    "    print(\"This will be exeucted once your while loop complete it successfully\")"
   ]
  },
  {
   "cell_type": "code",
   "execution_count": 66,
   "id": "ed62aba1-46bc-4cbb-8289-15d3447cbb98",
   "metadata": {},
   "outputs": [
    {
     "name": "stdout",
     "output_type": "stream",
     "text": [
      "1\n",
      "2\n",
      "3\n"
     ]
    }
   ],
   "source": [
    "n=5;\n",
    "i=1;\n",
    "while i<n:\n",
    "    print(i)\n",
    "    if i==3:\n",
    "        break;\n",
    "    i=i+1;\n",
    "else:\n",
    "    print(\"This will be exeucted once your while loop complete it successfully\")"
   ]
  },
  {
   "cell_type": "code",
   "execution_count": null,
   "id": "d5c87aaa-9e04-472d-a7c1-6fa921f2b512",
   "metadata": {},
   "outputs": [],
   "source": []
  }
 ],
 "metadata": {
  "kernelspec": {
   "display_name": "Python 3 (ipykernel)",
   "language": "python",
   "name": "python3"
  },
  "language_info": {
   "codemirror_mode": {
    "name": "ipython",
    "version": 3
   },
   "file_extension": ".py",
   "mimetype": "text/x-python",
   "name": "python",
   "nbconvert_exporter": "python",
   "pygments_lexer": "ipython3",
   "version": "3.10.8"
  }
 },
 "nbformat": 4,
 "nbformat_minor": 5
}
